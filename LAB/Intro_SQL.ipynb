{
 "cells": [
  {
   "cell_type": "code",
   "execution_count": 2,
   "metadata": {},
   "outputs": [
    {
     "data": {
      "text/plain": [
       "1000"
      ]
     },
     "execution_count": 2,
     "metadata": {},
     "output_type": "execute_result"
    }
   ],
   "source": [
    "import pandas as pd\n",
    "import sqlite3\n",
    "\n",
    "url = \"https://nycopendata.socrata.com/resource/erm2-nwe9.csv\"\n",
    "data = pd.read_csv(url)\n",
    "\n",
    "# Crear una conexión a SQLite en memoria\n",
    "conn = sqlite3.connect(':memory:')\n",
    "cursor = conn.cursor()\n",
    "\n",
    "# Cargar el dataframe a SQLite\n",
    "data.to_sql('nyc_311_service_requests', conn, index=False, if_exists='replace')\n"
   ]
  },
  {
   "cell_type": "code",
   "execution_count": 4,
   "metadata": {},
   "outputs": [
    {
     "name": "stdout",
     "output_type": "stream",
     "text": [
      "Principales Tipos de Quejas:\n",
      "             complaint_type  complaint_count\n",
      "0          Illegal Parking              195\n",
      "1      Noise - Residential              178\n",
      "2  Noise - Street/Sidewalk              127\n",
      "3         Blocked Driveway               73\n",
      "4       Noise - Commercial               46\n"
     ]
    }
   ],
   "source": [
    "# 1. Identificar los Principales Tipos de Quejas\n",
    "query1 = \"\"\"\n",
    "SELECT complaint_type, COUNT(*) AS complaint_count\n",
    "FROM nyc_311_service_requests\n",
    "GROUP BY complaint_type\n",
    "ORDER BY complaint_count DESC\n",
    "LIMIT 5;\n",
    "\"\"\"\n",
    "\n",
    "result1 = pd.read_sql_query(query1, conn)\n",
    "print(\"Principales Tipos de Quejas:\\n\", result1)\n"
   ]
  },
  {
   "cell_type": "code",
   "execution_count": 5,
   "metadata": {},
   "outputs": [
    {
     "name": "stdout",
     "output_type": "stream",
     "text": [
      "Quejas por Distrito:\n",
      "          borough  total_complaints\n",
      "0       BROOKLYN               291\n",
      "1         QUEENS               238\n",
      "2          BRONX               229\n",
      "3      MANHATTAN               215\n",
      "4  STATEN ISLAND                27\n"
     ]
    }
   ],
   "source": [
    "# 2. Analizar Quejas por Distrito\n",
    "query2 = \"\"\"\n",
    "SELECT borough, COUNT(*) AS total_complaints\n",
    "FROM nyc_311_service_requests\n",
    "GROUP BY borough\n",
    "ORDER BY total_complaints DESC;\n",
    "\"\"\"\n",
    "\n",
    "result2 = pd.read_sql_query(query2, conn)\n",
    "print(\"Quejas por Distrito:\\n\", result2)\n"
   ]
  },
  {
   "cell_type": "code",
   "execution_count": 6,
   "metadata": {},
   "outputs": [
    {
     "name": "stdout",
     "output_type": "stream",
     "text": [
      "Tipos de Quejas de Alto Volumen:\n",
      " Empty DataFrame\n",
      "Columns: [complaint_type, complaint_count]\n",
      "Index: []\n"
     ]
    }
   ],
   "source": [
    "# 3. Filtrar Tipos de Quejas de Alto Volumen\n",
    "query3 = \"\"\"\n",
    "SELECT complaint_type, COUNT(*) AS complaint_count\n",
    "FROM nyc_311_service_requests\n",
    "GROUP BY complaint_type\n",
    "HAVING COUNT(*) > 1000\n",
    "ORDER BY complaint_count DESC;\n",
    "\"\"\"\n",
    "result3 = pd.read_sql_query(query3, conn)\n",
    "print(\"Tipos de Quejas de Alto Volumen:\\n\", result3)"
   ]
  },
  {
   "cell_type": "code",
   "execution_count": 8,
   "metadata": {},
   "outputs": [
    {
     "name": "stdout",
     "output_type": "stream",
     "text": [
      "Comparación de Distritos para 'Noise - Residential':\n",
      "          borough  noise_complaints\n",
      "0          BRONX                48\n",
      "1      MANHATTAN                47\n",
      "2       BROOKLYN                45\n",
      "3         QUEENS                35\n",
      "4  STATEN ISLAND                 3\n"
     ]
    }
   ],
   "source": [
    "# 4. Comparación de Distritos para un Tipo Específico de Queja (ej. 'Noise - Residential')\n",
    "query4 = \"\"\"\n",
    "SELECT borough, COUNT(*) AS noise_complaints\n",
    "FROM nyc_311_service_requests\n",
    "WHERE complaint_type = 'Noise - Residential'\n",
    "GROUP BY borough\n",
    "ORDER BY noise_complaints DESC;\n",
    "\"\"\"\n",
    "\n",
    "result4 = pd.read_sql_query(query4, conn)\n",
    "print(\"Comparación de Distritos para 'Noise - Residential':\\n\", result4)\n"
   ]
  },
  {
   "cell_type": "code",
   "execution_count": 9,
   "metadata": {},
   "outputs": [],
   "source": [
    "# Cerrar conexión\n",
    "conn.close()"
   ]
  }
 ],
 "metadata": {
  "kernelspec": {
   "display_name": "base",
   "language": "python",
   "name": "python3"
  },
  "language_info": {
   "codemirror_mode": {
    "name": "ipython",
    "version": 3
   },
   "file_extension": ".py",
   "mimetype": "text/x-python",
   "name": "python",
   "nbconvert_exporter": "python",
   "pygments_lexer": "ipython3",
   "version": "3.11.7"
  }
 },
 "nbformat": 4,
 "nbformat_minor": 2
}
